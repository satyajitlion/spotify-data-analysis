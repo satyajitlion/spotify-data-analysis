{
 "cells": [
  {
   "cell_type": "markdown",
   "id": "d8f47fb7",
   "metadata": {},
   "source": [
    "### Spotify Data Set Analysis"
   ]
  },
  {
   "cell_type": "code",
   "execution_count": 5,
   "id": "d1e0e91c",
   "metadata": {},
   "outputs": [],
   "source": [
    "import numpy as np\n",
    "import matplotlib as plt\n",
    "import pandas as pd\n",
    "import zipfile"
   ]
  },
  {
   "cell_type": "code",
   "execution_count": 6,
   "id": "9a328d54",
   "metadata": {},
   "outputs": [],
   "source": [
    "with zipfile.ZipFile(\"C:\\\\Users\\\\satya\\\\spotify-dataset-19212020-600k-tracks.zip\", 'r') as z:\n",
    "    z.extractall(\"spotify_data\")"
   ]
  },
  {
   "cell_type": "code",
   "execution_count": 7,
   "id": "62efd23d",
   "metadata": {},
   "outputs": [],
   "source": [
    "tracks_df = pd.read_csv(r\"spotify_data\\tracks.csv\")\n",
    "artists_df = pd.read_csv(r\"spotify_data\\artists.csv\")"
   ]
  },
  {
   "cell_type": "code",
   "execution_count": 8,
   "id": "6059ed32",
   "metadata": {},
   "outputs": [
    {
     "name": "stdout",
     "output_type": "stream",
     "text": [
      "                       id                                 name  popularity  \\\n",
      "0  35iwgR4jXetI318WEWsa1Q                                Carve           6   \n",
      "1  021ht4sdgPcrDgSk7JTbKY  Capítulo 2.16 - Banquero Anarquista           0   \n",
      "2  07A5yehtSnoedViJAZkNnc   Vivo para Quererte - Remasterizado           0   \n",
      "3  08FmqUhxtyLTn6pAh6bk45        El Prisionero - Remasterizado           0   \n",
      "4  08y9GfoqCWfOGsKdwojr5e                  Lady of the Evening           0   \n",
      "\n",
      "   duration_ms  explicit              artists                  id_artists  \\\n",
      "0       126903         0              ['Uli']  ['45tIt06XoI0Iio4LBEVpls']   \n",
      "1        98200         0  ['Fernando Pessoa']  ['14jtPCOoNZwquk5wd9DxrY']   \n",
      "2       181640         0  ['Ignacio Corsini']  ['5LiOoJbxVSAMkBS2fUm3X2']   \n",
      "3       176907         0  ['Ignacio Corsini']  ['5LiOoJbxVSAMkBS2fUm3X2']   \n",
      "4       163080         0      ['Dick Haymes']  ['3BiJGZsyX9sJchTqcSA7Su']   \n",
      "\n",
      "  release_date  danceability  energy  key  loudness  mode  speechiness  \\\n",
      "0   1922-02-22         0.645  0.4450    0   -13.338     1       0.4510   \n",
      "1   1922-06-01         0.695  0.2630    0   -22.136     1       0.9570   \n",
      "2   1922-03-21         0.434  0.1770    1   -21.180     1       0.0512   \n",
      "3   1922-03-21         0.321  0.0946    7   -27.961     1       0.0504   \n",
      "4         1922         0.402  0.1580    3   -16.900     0       0.0390   \n",
      "\n",
      "   acousticness  instrumentalness  liveness  valence    tempo  time_signature  \n",
      "0         0.674            0.7440     0.151    0.127  104.851               3  \n",
      "1         0.797            0.0000     0.148    0.655  102.009               1  \n",
      "2         0.994            0.0218     0.212    0.457  130.418               5  \n",
      "3         0.995            0.9180     0.104    0.397  169.980               3  \n",
      "4         0.989            0.1300     0.311    0.196  103.220               4  \n"
     ]
    }
   ],
   "source": [
    "print(tracks_df.head())  # Displays first 5 rows with all columns"
   ]
  },
  {
   "cell_type": "code",
   "execution_count": 9,
   "id": "f54254ba",
   "metadata": {},
   "outputs": [
    {
     "name": "stdout",
     "output_type": "stream",
     "text": [
      "                       id  followers genres  \\\n",
      "0  0DheY5irMjBUeLybbCUEZ2        0.0     []   \n",
      "1  0DlhY15l3wsrnlfGio2bjU        5.0     []   \n",
      "2  0DmRESX2JknGPQyO15yxg7        0.0     []   \n",
      "3  0DmhnbHjm1qw6NCYPeZNgJ        0.0     []   \n",
      "4  0Dn11fWM7vHQ3rinvWEl4E        2.0     []   \n",
      "\n",
      "                                             name  popularity  \n",
      "0  Armid & Amir Zare Pashai feat. Sara Rouzbehani           0  \n",
      "1                                     ปูนา ภาวิณี           0  \n",
      "2                                           Sadaa           0  \n",
      "3                                       Tra'gruda           0  \n",
      "4                          Ioannis Panoutsopoulos           0  \n"
     ]
    }
   ],
   "source": [
    "\n",
    "print(artists_df.head())  # Displays first 5 rows with all columns"
   ]
  }
 ],
 "metadata": {
  "kernelspec": {
   "display_name": "Python 3",
   "language": "python",
   "name": "python3"
  },
  "language_info": {
   "codemirror_mode": {
    "name": "ipython",
    "version": 3
   },
   "file_extension": ".py",
   "mimetype": "text/x-python",
   "name": "python",
   "nbconvert_exporter": "python",
   "pygments_lexer": "ipython3",
   "version": "3.12.1"
  }
 },
 "nbformat": 4,
 "nbformat_minor": 5
}
